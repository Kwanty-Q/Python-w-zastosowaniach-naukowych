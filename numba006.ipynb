{
 "cells": [
  {
   "cell_type": "code",
   "execution_count": 11,
   "metadata": {},
   "outputs": [],
   "source": [
    "import numpy as np\n",
    "import numba\n",
    "from numba import typed\n",
    "#import matplotlib.pyplot as plt\n",
    "#from matplotlib.animation import FuncAnimation\n",
    "#from IPython.display import HTML\n",
    "\n",
    "import random\n",
    "from PIL import Image, ImageDraw\n",
    "import math\n",
    "\n",
    "import tqdm\n",
    "import time"
   ]
  },
  {
   "cell_type": "code",
   "execution_count": 12,
   "metadata": {},
   "outputs": [],
   "source": [
    "n = 40 # rozmiar siatki\n",
    "m = n # tego nie było, ale w sumie czemu nie - siatka nie musi być kwadratowa\n",
    "J = 1\n",
    "beta = 1\n",
    "B = 1\n",
    "liczba_krokow = 100 # liczba kroków; makrokroków 1 * liczba spinów\n",
    "gestosc_spinow = 0.5 # początkowa gęstość spinów\n",
    "\n",
    "# opcjonalne:\n",
    "prefix = 'ising' # nazwę pliku z obrazkami (prefix, do którego program dodaje mumer kroku; jeżeli parametr\n",
    "#  nie zostanie podany, obrazki się nie generują)\n",
    "animacja = 'animacja' # nazwę pliku z animacją (jeżeli parametr nie zostanie podany, animacja się nie generuje)\n",
    "plik_magnetyzacja = 'magnetyzacja' # nazwę pliku z magnetyzacją (jeżeli parametr nie zostanie podany, magnetyzacja się nie zapisuje)\n",
    "\n",
    "obrazki = []\n",
    "obrazkiNumba = []\n",
    "\n",
    "magnetyzacje = []\n",
    "magnetyzacjeN = []"
   ]
  },
  {
   "attachments": {},
   "cell_type": "markdown",
   "metadata": {},
   "source": [
    "# bez Numby"
   ]
  },
  {
   "cell_type": "code",
   "execution_count": 13,
   "metadata": {},
   "outputs": [],
   "source": [
    "def nowa_siatka(n, m, gestosc_spinow):\n",
    "    siatka = np.zeros((n, m))\n",
    "\n",
    "    for i in range(n):\n",
    "        for j in range(m):\n",
    "            spin = random.random() #np.random.rand(1)\n",
    "            if spin < gestosc_spinow :\n",
    "                spin = 1\n",
    "            else:\n",
    "                spin = -1\n",
    "            siatka [i][j] = spin\n",
    "    return siatka\n",
    "\n",
    "def liczenie_energii(n, m, J, B, magnetyzacja, numba_siatka):\n",
    "    energia1 = 0 # czyli tylko suma iloczynów spinów\n",
    "    for i in range(n-1):\n",
    "        for j in range(m-1):\n",
    "            energia1 = energia1 + numba_siatka[i][j] *(numba_siatka[i+1][j] + numba_siatka[i][j+1] )\n",
    "    for i in range(n-1):\n",
    "        energia1 = energia1 + numba_siatka[i][j] *(numba_siatka[i+1][j] + numba_siatka[i][1] )\n",
    "    for j in range(m-1):\n",
    "        energia1 = energia1 + numba_siatka[i][j] *(numba_siatka[1][j] + numba_siatka[i][j+1] )\n",
    "    energia1 = energia1 + numba_siatka[n-1][m-1] *(numba_siatka[1][m-1] + numba_siatka[n-1][1] )\n",
    "    energia =  - J*energia1 - B*magnetyzacja\n",
    "    #   print('Energia: ', energia)\n",
    "    return energia\n",
    "\n",
    "def mikrokrok(n, m, beta, energia_stara, J, B, magnetyzacja, numba_siatka):\n",
    "    i = random.randrange(n)\n",
    "    j = random.randrange(m)\n",
    "        # print(i, j)\n",
    "    numba_siatka[i][j] = - numba_siatka[i][j] \n",
    "    energia_nowa = liczenie_energii(n, m, J, B, magnetyzacja, numba_siatka) # liczymy jeszcze raz energię\n",
    "\n",
    "    if (energia_nowa < energia_stara):\n",
    "        pass # akceptujemy nowy spin\n",
    "    else:\n",
    "        p = random.random() #np.random.rand(1)\n",
    "        P_delta_E = math.exp(- beta * (energia_nowa - energia_stara) )\n",
    "        if(p < P_delta_E):\n",
    "            pass # akceptujemy nowy spin\n",
    "        else:\n",
    "            numba_siatka[i][j] = - numba_siatka[i][j] #powrót do poprzedniego stanu\n",
    "    return energia_nowa\n",
    "\n",
    "def licz_magnetyzacje(n, m, nr, obrazki, numba_siatka): # i przy okazji rysuj obrazek\n",
    "    magnetyzacja = 0\n",
    "    img = Image.new('RGB', (10*n + 4, 10*m + 4), (255, 255, 255)) # rozmiar obrazka zmienia się w zależności od rozmiarów siatki\n",
    "    klatka = ImageDraw.Draw(img)\n",
    "    wys = 10\n",
    "    for i in range(n):\n",
    "        for j in range(m):\n",
    "            spin = numba_siatka[i][j]\n",
    "            if spin == 1 :\n",
    "                klatka.multiline_text((4 + i*wys, j*wys), \"+\", fill=(0, 0, 0))\n",
    "            else:\n",
    "                klatka.multiline_text((4+i*wys, j*wys), \"-\", fill=(0, 0, 0))\n",
    "                    \n",
    "            magnetyzacja = magnetyzacja + spin\n",
    "    magnetyzacja_cała = magnetyzacja / (n*m)\n",
    "        #print('Magnetyzacja: ', magnetyzacja_cała)\n",
    "#        img.show()\n",
    "    if (prefix != 'brak'):\n",
    "        img.save(prefix + str(nr) +'.png') # dodać warunek na brak nazwy\n",
    "    obrazki.append(img)\n",
    "    return magnetyzacja_cała\n",
    "\n",
    "def makrokroki(n, m, J, B, beta, liczba_krokow, obrazki, magnetyzacje, numba_siatka):\n",
    "    for i in tqdm.tqdm(range(liczba_krokow)):\n",
    "        magnetyzacja = licz_magnetyzacje(n, m, i, obrazki, numba_siatka)\n",
    "            \n",
    "        magnetyzacje.append(magnetyzacja)\n",
    "        #    print('Magnetyzacja: ', magnetyzacja)\n",
    "                #zapisanie magnetyzacji do pliku\n",
    "        magnetyzacja_suma = magnetyzacja * (n*m)\n",
    "        stara_energia = liczenie_energii(n, m, J, B, magnetyzacja_suma, numba_siatka) \n",
    "\n",
    "        for k in range(n*m):\n",
    "            energia = mikrokrok(n, m, beta, stara_energia, J, B, magnetyzacja_suma, numba_siatka) \n",
    "            stara_energia = energia"
   ]
  },
  {
   "cell_type": "code",
   "execution_count": 14,
   "metadata": {},
   "outputs": [
    {
     "name": "stderr",
     "output_type": "stream",
     "text": [
      "100%|██████████| 100/100 [03:10<00:00,  1.91s/it]\n"
     ]
    }
   ],
   "source": [
    "siatka1 = nowa_siatka(n, m, gestosc_spinow)\n",
    "makrokroki(n, m, J, B, beta, liczba_krokow, obrazki, magnetyzacje, siatka1)"
   ]
  },
  {
   "cell_type": "code",
   "execution_count": 15,
   "metadata": {},
   "outputs": [],
   "source": [
    "if animacja != 'brak':      \n",
    "    obrazki[0].save(animacja + '.gif',\n",
    "               save_all=True, append_images=obrazki[1:], duration=100, loop=1)\n",
    "               # loop odpowiada za to, czy filmik zapętla się w nieskończoność, czy nie"
   ]
  },
  {
   "attachments": {},
   "cell_type": "markdown",
   "metadata": {},
   "source": [
    "# Numba"
   ]
  },
  {
   "cell_type": "code",
   "execution_count": 16,
   "metadata": {},
   "outputs": [],
   "source": [
    "@numba.njit\n",
    "def nowa_siatkaN(n, m, gestosc_spinow):\n",
    "    siatka = np.zeros((n, m))\n",
    "\n",
    "    for i in range(n):\n",
    "        for j in range(m):\n",
    "            spin = random.random() #np.random.rand(1)\n",
    "            if spin < gestosc_spinow :\n",
    "                spin = 1\n",
    "            else:\n",
    "                spin = -1\n",
    "            siatka [i][j] = spin\n",
    "    return siatka"
   ]
  },
  {
   "cell_type": "code",
   "execution_count": 17,
   "metadata": {},
   "outputs": [],
   "source": [
    "@numba.njit\n",
    "def liczenie_energiiN(n, m, J, B, magnetyzacja, numba_siatka):\n",
    "    energia1 = 0 # czyli tylko suma iloczynów spinów\n",
    "    for i in range(n-1):\n",
    "        for j in range(m-1):\n",
    "            energia1 = energia1 + numba_siatka[i][j] *(numba_siatka[i+1][j] + numba_siatka[i][j+1] )\n",
    "    for i in range(n-1):\n",
    "        energia1 = energia1 + numba_siatka[i][j] *(numba_siatka[i+1][j] + numba_siatka[i][1] )\n",
    "    for j in range(m-1):\n",
    "        energia1 = energia1 + numba_siatka[i][j] *(numba_siatka[1][j] + numba_siatka[i][j+1] )\n",
    "    energia1 = energia1 + numba_siatka[n-1][m-1] *(numba_siatka[1][m-1] + numba_siatka[n-1][1] )\n",
    "    energia =  - J*energia1 - B*magnetyzacja\n",
    "    #   print('Energia: ', energia)\n",
    "    return energia"
   ]
  },
  {
   "cell_type": "code",
   "execution_count": 18,
   "metadata": {},
   "outputs": [],
   "source": [
    "@numba.njit\n",
    "def mikrokrokN(n, m, beta, energia_stara, J, B, magnetyzacja, numba_siatka):\n",
    "    i = random.randrange(n)\n",
    "    j = random.randrange(m)\n",
    "        # print(i, j)\n",
    "    numba_siatka[i][j] = - numba_siatka[i][j] \n",
    "    energia_nowa = liczenie_energiiN(n, m, J, B, magnetyzacja, numba_siatka) # liczymy jeszcze raz energię\n",
    "\n",
    "    if (energia_nowa < energia_stara):\n",
    "        pass # akceptujemy nowy spin\n",
    "    else:\n",
    "        p = random.random() #np.random.rand(1)\n",
    "        P_delta_E = math.exp(- beta * (energia_nowa - energia_stara) )\n",
    "        if(p < P_delta_E):\n",
    "            pass # akceptujemy nowy spin\n",
    "        else:\n",
    "            numba_siatka[i][j] = - numba_siatka[i][j] #powrót do poprzedniego stanu\n",
    "    return energia_nowa"
   ]
  },
  {
   "cell_type": "code",
   "execution_count": 20,
   "metadata": {},
   "outputs": [],
   "source": [
    "#@numba.njit\n",
    "def licz_magnetyzacjeN(n, m, nr, obrazki, numba_siatka): # i przy okazji rysuj obrazek\n",
    "    magnetyzacja = 0\n",
    "    img = Image.new('RGB', (10*n + 4, 10*m + 4), (255, 255, 255)) # rozmiar obrazka zmienia się w zależności od rozmiarów siatki\n",
    "    klatka = ImageDraw.Draw(img)\n",
    "    wys = 10\n",
    "    for i in range(n):\n",
    "        for j in range(m):\n",
    "            spin = numba_siatka[i][j]\n",
    "            if spin == 1 :\n",
    "                klatka.multiline_text((4 + i*wys, j*wys), \"+\", fill=(0, 0, 0))\n",
    "            else:\n",
    "                klatka.multiline_text((4+i*wys, j*wys), \"-\", fill=(0, 0, 0))\n",
    "                    \n",
    "            magnetyzacja = magnetyzacja + spin\n",
    "    magnetyzacja_cała = magnetyzacja / (n*m)\n",
    "        #print('Magnetyzacja: ', magnetyzacja_cała)\n",
    "#        img.show()\n",
    "    if (prefix != 'brak'):\n",
    "        img.save(prefix + 'Numba' + str(nr) +'.png') # dodać warunek na brak nazwy\n",
    "    obrazkiNumba.append(img)\n",
    "    return magnetyzacja_cała"
   ]
  },
  {
   "cell_type": "code",
   "execution_count": 21,
   "metadata": {},
   "outputs": [],
   "source": [
    "#@numba.njit\n",
    "def makrokrokiN(n, m, J, B, beta, liczba_krokow, obrazki, magnetyzacje, numba_siatka):\n",
    "    for i in tqdm.tqdm(range(liczba_krokow)):\n",
    "        magnetyzacja = licz_magnetyzacjeN(n, m, i, obrazki, numba_siatka)\n",
    "            \n",
    "        magnetyzacjeN.append(magnetyzacja)\n",
    "        #    print('Magnetyzacja: ', magnetyzacja)\n",
    "                #zapisanie magnetyzacji do pliku\n",
    "        magnetyzacja_suma = magnetyzacja * (n*m)\n",
    "        stara_energia = liczenie_energiiN(n, m, J, B, magnetyzacja_suma, numba_siatka) \n",
    "\n",
    "        for k in range(n*m):\n",
    "            energia = mikrokrokN(n, m, beta, stara_energia, J, B, magnetyzacja_suma, numba_siatka) \n",
    "            stara_energia = energia"
   ]
  },
  {
   "cell_type": "code",
   "execution_count": 22,
   "metadata": {},
   "outputs": [
    {
     "name": "stderr",
     "output_type": "stream",
     "text": [
      "100%|██████████| 100/100 [00:03<00:00, 32.15it/s]\n"
     ]
    }
   ],
   "source": [
    "numba_siatka1 = nowa_siatkaN(n, m, gestosc_spinow)\n",
    "makrokrokiN(n, m, J, B, beta, liczba_krokow, obrazkiNumba, magnetyzacje, numba_siatka1)"
   ]
  },
  {
   "cell_type": "code",
   "execution_count": 23,
   "metadata": {},
   "outputs": [],
   "source": [
    "if animacja != 'brak':      \n",
    "    obrazkiNumba[0].save(animacja + 'Numba' + '.gif',\n",
    "               save_all=True, append_images=obrazkiNumba[1:], duration=100, loop=1)\n",
    "               # loop odpowiada za to, czy filmik zapętla się w nieskończoność, czy nie"
   ]
  }
 ],
 "metadata": {
  "kernelspec": {
   "display_name": "base",
   "language": "python",
   "name": "python3"
  },
  "language_info": {
   "codemirror_mode": {
    "name": "ipython",
    "version": 3
   },
   "file_extension": ".py",
   "mimetype": "text/x-python",
   "name": "python",
   "nbconvert_exporter": "python",
   "pygments_lexer": "ipython3",
   "version": "3.8.8"
  },
  "orig_nbformat": 4,
  "vscode": {
   "interpreter": {
    "hash": "f019b0d196863206d1e810c61ab3aef69b259139e92952d6f706fd280f559959"
   }
  }
 },
 "nbformat": 4,
 "nbformat_minor": 2
}
